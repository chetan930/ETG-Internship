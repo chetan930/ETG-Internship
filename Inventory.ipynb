{
  "nbformat": 4,
  "nbformat_minor": 0,
  "metadata": {
    "colab": {
      "name": "Inventory.ipynb",
      "provenance": []
    },
    "kernelspec": {
      "name": "python3",
      "display_name": "Python 3"
    },
    "language_info": {
      "name": "python"
    }
  },
  "cells": [
    {
      "cell_type": "code",
      "metadata": {
        "id": "FJZK4vobpa7D"
      },
      "source": [
        ""
      ],
      "execution_count": 14,
      "outputs": []
    },
    {
      "cell_type": "code",
      "metadata": {
        "id": "WNNIZ0TuPcSo"
      },
      "source": [
        ""
      ],
      "execution_count": null,
      "outputs": []
    },
    {
      "cell_type": "markdown",
      "metadata": {
        "id": "uJwXtS8hPmr1"
      },
      "source": [
        "Create inventory"
      ]
    },
    {
      "cell_type": "code",
      "metadata": {
        "id": "QIkf2yydPcVn"
      },
      "source": [
        "record = {1001:{'Name':'Orange Juice', 'Category':  'Drink' , 'Price':100, 'qnt':900},\n",
        "          1002:{'Name':   'Coke'     , 'Category':  'Drink' , 'Price':50, 'qnt':300},\n",
        "          1003:{'Name':'   Pepsi    ', 'Category':  'Drink' , 'Price':80, 'qnt':200},\n",
        "          1004:{'Name':'  ThumpsUp  ', 'Category':  'Drink' , 'Price':100, 'qnt':900},\n",
        "          1005:{'Name':'   Sprite   ', 'Category':  'Drink' , 'Price':60, 'qnt':400},\n",
        "          1006:{'Name':'   Soda     ', 'Category':  'Drink' , 'Price':30, 'qnt':500},\n",
        "          1007:{'Name':'   Milk     ', 'Category':  'Dairy' , 'Price':70, 'qnt':100},\n",
        "          1008:{'Name':'   Cheese   ', 'Category':  'Dairy' , 'Price':300, 'qnt':100},\n",
        "          1009:{'Name':'    Eggs    ', 'Category':  'Dairy' , 'Price':90, 'qnt':500},\n",
        "          1010:{'Name':'  Butter    ', 'Category':  'Dairy' , 'Price':400, 'qnt':400},\n",
        "          1011:{'Name':'  Yogurt    ', 'Category':  'Dairy' , 'Price':150, 'qnt':500},\n",
        "          1012:{'Name':' ice Cream  ', 'Category':  'Dairy' , 'Price':100, 'qnt':600},\n",
        "          1013:{'Name':'  Orange    ', 'Category': 'Fruits' , 'Price':200, 'qnt':700},\n",
        "          1014:{'Name':'  Bananas   ', 'Category': 'Fruits' , 'Price':30, 'qnt':500},\n",
        "          1015:{'Name':'   Apple    ', 'Category': 'Fruits' , 'Price':300, 'qnt':300},\n",
        "          1016:{'Name':'   Grapes   ', 'Category': 'fruits' , 'Price':100, 'qnt':500},\n",
        "          1017:{'Name':' Pineapple  ', 'Category': 'fruits' , 'Price':100, 'qnt':200},\n",
        "          1018:{'Name':' Watermelon ', 'Category': 'fruits' , 'Price':80, 'qnt':100},\n",
        "          1019:{'Name':'   Mango    ', 'Category': 'fruits' , 'Price':200, 'qnt':200},\n",
        "          1020:{'Name':'   Lemon    ', 'Category': 'fruits' , 'Price':100, 'qnt':500},\n",
        "          1021:{'Name':'  Papaya    ', 'Category': 'fruits' , 'Price':60, 'qnt':300},\n",
        "          1022:{'Name':' Strawberry ', 'Category': 'fruits' , 'Price':500, 'qnt':500},\n",
        "          1023:{'Name':' Cauliflower', 'Category':'vegetable', 'Price':25, 'qnt':600},\n",
        "          1024:{'Name':'  Tomato    ', 'Category':'vegetable', 'Price':60, 'qnt':800},\n",
        "          1025:{'Name':'   onion    ', 'Category':'vegetable', 'Price':50, 'qnt':100},\n",
        "          1026:{'Name':'    potato  ', 'Category':'vegetable', 'Price':40, 'qnt':100},\n",
        "          1027:{'Name':'  spinach   ', 'Category':'vegetable', 'Price':10, 'qnt':100},\n",
        "          1028:{'Name':'  Broccoli  ', 'Category':'vegetable', 'Price':40, 'qnt':200},\n",
        "          1029:{'Name':' Mushroom   ', 'Category':'vegetable', 'Price':80, 'qnt':100},\n",
        "          1030:{'Name':'  Capsicum  ', 'Category':'vegetable', 'Price':20, 'qnt':200},\n",
        "          1031:{'Name':'   Maggie   ', 'Category':'prcessed', 'Price':100, 'qnt':900},\n",
        "          1032:{'Name':'    lays    ', 'Category':'prcessed', 'Price':10, 'qnt':1000},\n",
        "          1033:{'Name':' kurkure    ', 'Category':'prcessed', 'Price':10, 'qnt':2000},\n",
        "          1034:{'Name':'   Bingo    ', 'Category':'prcessed', 'Price':10, 'qnt':1000},\n",
        "          1035:{'Name':'cadbury oreo', 'Category':'prcessed', 'Price':60, 'qnt':1000},\n",
        "          1036:{'Name':'  parle-g   ', 'Category':'prcessed', 'Price':10, 'qnt':2000},\n",
        "          1037:{'Name':'KrackJack   ', 'Category':'prcessed', 'Price':5, 'qnt':5000},\n",
        "          1038:{'Name':' Moms Magic ', 'Category':'prcessed', 'Price':30, 'qnt':3000},\n",
        "          1039:{'Name':'  Bourbon   ', 'Category':'prcessed', 'Price':10, 'qnt':900},\n",
        "          1040:{'Name':' Kit Kat    ', 'Category':'prcessed', 'Price':20, 'qnt':800},\n",
        "          1041:{'Name':'   Snickers ', 'Category':'prcessed', 'Price':45, 'qnt':700},\n",
        "          1042:{'Name':' Dairy Milk ', 'Category':'prcessed', 'Price':50, 'qnt':1000},\n",
        "          1043:{'Name':'DarkChocolate', 'Category':'prcessed', 'Price':35, 'qnt':900},\n",
        "          1045:{'Name':'  Bread     ', 'Category':'prcessed', 'Price':60, 'qnt':300},\n",
        "          1046:{'Name':'   Cake     ', 'Category':'prcessed', 'Price':100, 'qnt':500},\n",
        "          1047:{'Name':'   pasta    ', 'Category':'prcessed', 'Price':40, 'qnt':500},\n",
        "          1048:{'Name':'  britannia ', 'Category':'prcessed', 'Price':10, 'qnt':600},\n",
        "          1049:{'Name':'  Noodles   ', 'Category':'prcessed', 'Price':20, 'qnt':500},\n",
        "          1050:{'Name':'  YiPPee    ', 'Category':'prcessed', 'Price':20, 'qnt':900}\n",
        "\n",
        "}"
      ],
      "execution_count": null,
      "outputs": []
    },
    {
      "cell_type": "code",
      "metadata": {
        "id": "kNI3tpksPcYV"
      },
      "source": [
        "import json"
      ],
      "execution_count": null,
      "outputs": []
    },
    {
      "cell_type": "code",
      "metadata": {
        "id": "J8G3d6WmPcwI"
      },
      "source": [
        "js = json.dumps(record)"
      ],
      "execution_count": null,
      "outputs": []
    },
    {
      "cell_type": "code",
      "metadata": {
        "colab": {
          "base_uri": "https://localhost:8080/",
          "height": 224
        },
        "id": "pPos99W4PczP",
        "outputId": "2a041042-3a89-47fe-b6b5-b6edbc390325"
      },
      "source": [
        "js"
      ],
      "execution_count": null,
      "outputs": [
        {
          "output_type": "execute_result",
          "data": {
            "application/vnd.google.colaboratory.intrinsic+json": {
              "type": "string"
            },
            "text/plain": [
              "'{\"1001\": {\"Name\": \"Orange Juice\", \"Category\": \"Drink\", \"Price\": 100, \"qnt\": 900}, \"1002\": {\"Name\": \"Coke\", \"Category\": \"Drink\", \"Price\": 50, \"qnt\": 300}, \"1003\": {\"Name\": \"   Pepsi    \", \"Category\": \"Drink\", \"Price\": 80, \"qnt\": 200}, \"1004\": {\"Name\": \"  ThumpsUp  \", \"Category\": \"Drink\", \"Price\": 100, \"qnt\": 900}, \"1005\": {\"Name\": \"   Sprite   \", \"Category\": \"Drink\", \"Price\": 60, \"qnt\": 400}, \"1006\": {\"Name\": \"   Soda     \", \"Category\": \"Drink\", \"Price\": 30, \"qnt\": 500}, \"1007\": {\"Name\": \"   Milk     \", \"Category\": \"Dairy\", \"Price\": 70, \"qnt\": 100}, \"1008\": {\"Name\": \"   Cheese   \", \"Category\": \"Dairy\", \"Price\": 300, \"qnt\": 100}, \"1009\": {\"Name\": \"    Eggs    \", \"Category\": \"Dairy\", \"Price\": 90, \"qnt\": 500}, \"1010\": {\"Name\": \"  Butter    \", \"Category\": \"Dairy\", \"Price\": 400, \"qnt\": 400}, \"1011\": {\"Name\": \"  Yogurt    \", \"Category\": \"Dairy\", \"Price\": 150, \"qnt\": 500}, \"1012\": {\"Name\": \" ice Cream  \", \"Category\": \"Dairy\", \"Price\": 100, \"qnt\": 600}, \"1013\": {\"Name\": \"  Orange    \", \"Category\": \"Fruits\", \"Price\": 200, \"qnt\": 700}, \"1014\": {\"Name\": \"  Bananas   \", \"Category\": \"Fruits\", \"Price\": 30, \"qnt\": 500}, \"1015\": {\"Name\": \"   Apple    \", \"Category\": \"Fruits\", \"Price\": 300, \"qnt\": 300}, \"1016\": {\"Name\": \"   Grapes   \", \"Category\": \"fruits\", \"Price\": 100, \"qnt\": 500}, \"1017\": {\"Name\": \" Pineapple  \", \"Category\": \"fruits\", \"Price\": 100, \"qnt\": 200}, \"1018\": {\"Name\": \" Watermelon \", \"Category\": \"fruits\", \"Price\": 80, \"qnt\": 100}, \"1019\": {\"Name\": \"   Mango    \", \"Category\": \"fruits\", \"Price\": 200, \"qnt\": 200}, \"1020\": {\"Name\": \"   Lemon    \", \"Category\": \"fruits\", \"Price\": 100, \"qnt\": 500}, \"1021\": {\"Name\": \"  Papaya    \", \"Category\": \"fruits\", \"Price\": 60, \"qnt\": 300}, \"1022\": {\"Name\": \" Strawberry \", \"Category\": \"fruits\", \"Price\": 500, \"qnt\": 500}, \"1023\": {\"Name\": \" Cauliflower\", \"Category\": \"vegetable\", \"Price\": 25, \"qnt\": 600}, \"1024\": {\"Name\": \"  Tomato    \", \"Category\": \"vegetable\", \"Price\": 60, \"qnt\": 800}, \"1025\": {\"Name\": \"   onion    \", \"Category\": \"vegetable\", \"Price\": 50, \"qnt\": 100}, \"1026\": {\"Name\": \"    potato  \", \"Category\": \"vegetable\", \"Price\": 40, \"qnt\": 100}, \"1027\": {\"Name\": \"  spinach   \", \"Category\": \"vegetable\", \"Price\": 10, \"qnt\": 100}, \"1028\": {\"Name\": \"  Broccoli  \", \"Category\": \"vegetable\", \"Price\": 40, \"qnt\": 200}, \"1029\": {\"Name\": \" Mushroom   \", \"Category\": \"vegetable\", \"Price\": 80, \"qnt\": 100}, \"1030\": {\"Name\": \"  Capsicum  \", \"Category\": \"vegetable\", \"Price\": 20, \"qnt\": 200}, \"1031\": {\"Name\": \"   Maggie   \", \"Category\": \"prcessed\", \"Price\": 100, \"qnt\": 900}, \"1032\": {\"Name\": \"    lays    \", \"Category\": \"prcessed\", \"Price\": 10, \"qnt\": 1000}, \"1033\": {\"Name\": \" kurkure    \", \"Category\": \"prcessed\", \"Price\": 10, \"qnt\": 2000}, \"1034\": {\"Name\": \"   Bingo    \", \"Category\": \"prcessed\", \"Price\": 10, \"qnt\": 1000}, \"1035\": {\"Name\": \"cadbury oreo\", \"Category\": \"prcessed\", \"Price\": 60, \"qnt\": 1000}, \"1036\": {\"Name\": \"  parle-g   \", \"Category\": \"prcessed\", \"Price\": 10, \"qnt\": 2000}, \"1037\": {\"Name\": \"KrackJack   \", \"Category\": \"prcessed\", \"Price\": 5, \"qnt\": 5000}, \"1038\": {\"Name\": \" Moms Magic \", \"Category\": \"prcessed\", \"Price\": 30, \"qnt\": 3000}, \"1039\": {\"Name\": \"  Bourbon   \", \"Category\": \"prcessed\", \"Price\": 10, \"qnt\": 900}, \"1040\": {\"Name\": \" Kit Kat    \", \"Category\": \"prcessed\", \"Price\": 20, \"qnt\": 800}, \"1041\": {\"Name\": \"   Snickers \", \"Category\": \"prcessed\", \"Price\": 45, \"qnt\": 700}, \"1042\": {\"Name\": \" Dairy Milk \", \"Category\": \"prcessed\", \"Price\": 50, \"qnt\": 1000}, \"1043\": {\"Name\": \"DarkChocolate\", \"Category\": \"prcessed\", \"Price\": 35, \"qnt\": 900}, \"1045\": {\"Name\": \"  Bread     \", \"Category\": \"prcessed\", \"Price\": 60, \"qnt\": 300}, \"1046\": {\"Name\": \"   Cake     \", \"Category\": \"prcessed\", \"Price\": 100, \"qnt\": 500}, \"1047\": {\"Name\": \"   pasta    \", \"Category\": \"prcessed\", \"Price\": 40, \"qnt\": 500}, \"1048\": {\"Name\": \"  britannia \", \"Category\": \"prcessed\", \"Price\": 10, \"qnt\": 600}, \"1049\": {\"Name\": \"  Noodles   \", \"Category\": \"prcessed\", \"Price\": 20, \"qnt\": 500}, \"1050\": {\"Name\": \"  YiPPee    \", \"Category\": \"prcessed\", \"Price\": 20, \"qnt\": 900}}'"
            ]
          },
          "metadata": {},
          "execution_count": 10
        }
      ]
    },
    {
      "cell_type": "code",
      "metadata": {
        "id": "d9ph9pc5Pc2k"
      },
      "source": [
        "fd = open(\"record.json\", 'w')\n",
        "fd.write(js)\n",
        "fd.close()"
      ],
      "execution_count": null,
      "outputs": []
    },
    {
      "cell_type": "code",
      "metadata": {
        "id": "2CyZSyObPc5T"
      },
      "source": [
        ""
      ],
      "execution_count": null,
      "outputs": []
    },
    {
      "cell_type": "code",
      "metadata": {
        "id": "ClvUNDzCPc8Q"
      },
      "source": [
        ""
      ],
      "execution_count": 15,
      "outputs": []
    },
    {
      "cell_type": "markdown",
      "metadata": {
        "id": "s3KuaDVcPfiS"
      },
      "source": [
        "Purchase"
      ]
    },
    {
      "cell_type": "code",
      "metadata": {
        "id": "qj2iL7R_Pc-8",
        "colab": {
          "base_uri": "https://localhost:8080/"
        },
        "outputId": "83951ef0-79b9-4faf-86db-387e1c15e592"
      },
      "source": [
        "ui_prod  = int(input(\"Enter the product_Id: \"))\n",
        "ui_quant = int(input(\"Enter the quantity: \"))\n",
        "\n",
        "\n",
        "print(\"Product: \", record[ui_prod]['Name'])\n",
        "print(\"Price: \", record[ui_prod]['Price'])\n",
        "print(\"**************************\")\n",
        "print(\" **Billing Amount: \", record[ui_prod]['Price'] * ui_quant)\n",
        "print(\"**************************\")\n",
        "\n",
        "record[ui_prod]['qnt'] = record[ui_prod]['qnt'] - ui_quant"
      ],
      "execution_count": 20,
      "outputs": [
        {
          "output_type": "stream",
          "name": "stdout",
          "text": [
            "Enter the product_Id: 1002\n",
            "Enter the quantity: 20\n",
            "Product:  Coke\n",
            "Price:  50\n",
            "**************************\n",
            " **Billing Amount:  1000\n",
            "**************************\n"
          ]
        }
      ]
    },
    {
      "cell_type": "code",
      "metadata": {
        "id": "yVM6cIc9NVel"
      },
      "source": [
        ""
      ],
      "execution_count": 17,
      "outputs": []
    },
    {
      "cell_type": "code",
      "metadata": {
        "id": "F76VXXU-Pb22"
      },
      "source": [
        ""
      ],
      "execution_count": null,
      "outputs": []
    },
    {
      "cell_type": "markdown",
      "metadata": {
        "id": "9pKU1Wx8RFoX"
      },
      "source": [
        "Updated Inventory"
      ]
    },
    {
      "cell_type": "code",
      "metadata": {
        "id": "3qUIbC_7REjy"
      },
      "source": [
        "js = json.dumps(record)\n",
        "\n",
        "fd = open(\"sales.json\",'w')\n",
        "fd.write(js)\n",
        "fd.close()"
      ],
      "execution_count": 22,
      "outputs": []
    },
    {
      "cell_type": "code",
      "metadata": {
        "id": "-rFgy3q8REW9"
      },
      "source": [
        ""
      ],
      "execution_count": null,
      "outputs": []
    },
    {
      "cell_type": "code",
      "metadata": {
        "id": "K3DDWAe-REFh"
      },
      "source": [
        ""
      ],
      "execution_count": null,
      "outputs": []
    },
    {
      "cell_type": "code",
      "metadata": {
        "id": "k0IvkUYVREBp"
      },
      "source": [
        ""
      ],
      "execution_count": null,
      "outputs": []
    },
    {
      "cell_type": "code",
      "metadata": {
        "id": "knC8ABTFRD-I"
      },
      "source": [
        ""
      ],
      "execution_count": null,
      "outputs": []
    }
  ]
}